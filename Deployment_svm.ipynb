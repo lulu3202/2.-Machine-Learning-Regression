{
 "cells": [
  {
   "cell_type": "code",
   "execution_count": 1,
   "id": "2267e807-afb4-4a12-8619-f56b425e7d15",
   "metadata": {},
   "outputs": [],
   "source": [
    "import pickle"
   ]
  },
  {
   "cell_type": "code",
   "execution_count": 3,
   "id": "43f30737-ca2f-4954-a63d-43606b725bb5",
   "metadata": {},
   "outputs": [],
   "source": [
    "#provide all 5 inputs as we trained with a model that had 5 input variables\n",
    "loaded_model=pickle.load(open(\"finalized_model_svm.sav\",'rb'))\n",
    "result=loaded_model.predict([[1234,345,4565,1,0]])\n"
   ]
  },
  {
   "cell_type": "code",
   "execution_count": 4,
   "id": "98df9ba6-05b4-4d7b-b45e-29c061509899",
   "metadata": {},
   "outputs": [
    {
     "data": {
      "text/plain": [
       "array([74312521.66636787])"
      ]
     },
     "execution_count": 4,
     "metadata": {},
     "output_type": "execute_result"
    }
   ],
   "source": [
    "result"
   ]
  },
  {
   "cell_type": "code",
   "execution_count": null,
   "id": "74e12da6-110a-4063-9495-79755d5aa47e",
   "metadata": {},
   "outputs": [],
   "source": []
  }
 ],
 "metadata": {
  "kernelspec": {
   "display_name": "Python 3 (ipykernel)",
   "language": "python",
   "name": "python3"
  },
  "language_info": {
   "codemirror_mode": {
    "name": "ipython",
    "version": 3
   },
   "file_extension": ".py",
   "mimetype": "text/x-python",
   "name": "python",
   "nbconvert_exporter": "python",
   "pygments_lexer": "ipython3",
   "version": "3.12.4"
  }
 },
 "nbformat": 4,
 "nbformat_minor": 5
}
